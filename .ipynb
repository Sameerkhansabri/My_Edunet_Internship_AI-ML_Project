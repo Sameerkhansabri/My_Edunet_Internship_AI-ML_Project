# Import necessary libraries
import pandas as pd
import numpy as np
import matplotlib.pyplot as plt

from sklearn.model_selection import train_test_split
from sklearn.linear_model import LinearRegression
from sklearn.metrics import mean_squared_error, r2_score, mean_absolute_error
import warnings
warnings.filterwarnings('ignore')

# Create sample dataset
np.random.seed(42)
years_experience = np.random.uniform(1, 15, 100)
salary = 30000 + 5000 * years_experience + np.random.normal(0, 5000, 100)

# Create DataFrame
data = pd.DataFrame({
    'YearsExperience': years_experience,
    'Salary': salary
})

# Display dataset information
print("Dataset Shape:", data.shape)
print("\nFirst 10 rows:")
print(data.head(10))
print("\nDataset Statistics:")
print(data.describe())

# Data visualization
plt.figure(figsize=(12, 8))

# Scatter plot
plt.subplot(2, 2, 1)
plt.scatter(data['YearsExperience'], data['Salary'], alpha=0.6, color='blue')
plt.xlabel('Years of Experience')
plt.ylabel('Salary ($)')
plt.title('Salary vs Years of Experience')
plt.grid(True, alpha=0.3)

# Distribution of Years of Experience
plt.subplot(2, 2, 2)
plt.hist(data['YearsExperience'], bins=15, color='skyblue', edgecolor='black')
plt.xlabel('Years of Experience')
plt.ylabel('Frequency')
plt.title('Distribution of Years of Experience')
plt.grid(True, alpha=0.3)

# Distribution of Salary
plt.subplot(2, 2, 3)
plt.hist(data['Salary'], bins=15, color='lightgreen', edgecolor='black')
plt.xlabel('Salary ($)')
plt.ylabel('Frequency')
plt.title('Distribution of Salary')
plt.grid(True, alpha=0.3)

# Correlation heatmap
plt.subplot(2, 2, 4)
correlation_matrix = data.corr()
sns.heatmap(correlation_matrix, annot=True, cmap='coolwarm', center=0)
plt.title('Correlation Heatmap')

plt.tight_layout()
plt.show()

# Prepare data for machine learning
X = data[['YearsExperience']]
y = data['Salary']

# Split the data
X_train, X_test, y_train, y_test = train_test_split(X, y, test_size=0.2, random_state=42)

print(f"\nTraining set size: {X_train.shape[0]}")
print(f"Test set size: {X_test.shape[0]}")

# Train the model
model = LinearRegression()
model.fit(X_train, y_train)

# Make predictions
y_pred = model.predict(X_test)

# Model evaluation
mse = mean_squared_error(y_test, y_pred)
rmse = np.sqrt(mse)
mae = mean_absolute_error(y_test, y_pred)
r2 = r2_score(y_test, y_pred)

print("\n" + "="*50)
print("MODEL PERFORMANCE METRICS")
print("="*50)
print(f"Mean Squared Error (MSE): {mse:.2f}")
print(f"Root Mean Squared Error (RMSE): {rmse:.2f}")
print(f"Mean Absolute Error (MAE): {mae:.2f}")
print(f"R-squared Score: {r2:.4f}")
print(f"Model Accuracy: {r2*100:.2f}%")

# Display model coefficients
print("\n" + "="*50)
print("MODEL COEFFICIENTS")
print("="*50)
print(f"Intercept (Base Salary): ${model.intercept_:.2f}")
print(f"Slope (Salary per Year): ${model.coef_[0]:.2f}")

# Visualization of results
plt.figure(figsize=(15, 10))

# Training data visualization
plt.subplot(2, 2, 1)
plt.scatter(X_train, y_train, alpha=0.6, color='blue', label='Training Data')
plt.plot(X_train, model.predict(X_train), color='red', linewidth=2, label='Regression Line')
plt.xlabel('Years of Experience')
plt.ylabel('Salary ($)')
plt.title('Training Data with Regression Line')
plt.legend()
plt.grid(True, alpha=0.3)

# Test data visualization
plt.subplot(2, 2, 2)
plt.scatter(X_test, y_test, alpha=0.6, color='green', label='Actual Test Data')
plt.scatter(X_test, y_pred, alpha=0.6, color='red', label='Predicted Test Data')
plt.plot(X_test, y_pred, color='red', linewidth=2, alpha=0.7)
plt.xlabel('Years of Experience')
plt.ylabel('Salary ($)')
plt.title('Test Data: Actual vs Predicted')
plt.legend()
plt.grid(True, alpha=0.3)

# Residual plot
plt.subplot(2, 2, 3)
residuals = y_test - y_pred
plt.scatter(y_pred, residuals, alpha=0.6, color='purple')
plt.axhline(y=0, color='red', linestyle='--')
plt.xlabel('Predicted Values')
plt.ylabel('Residuals')
plt.title('Residual Plot')
plt.grid(True, alpha=0.3)

# Actual vs Predicted comparison
plt.subplot(2, 2, 4)
plt.scatter(y_test, y_pred, alpha=0.6, color='orange')
plt.plot([y_test.min(), y_test.max()], [y_test.min(), y_test.max()], 'r--', lw=2)
plt.xlabel('Actual Salary')
plt.ylabel('Predicted Salary')
plt.title('Actual vs Predicted Salary')
plt.grid(True, alpha=0.3)

plt.tight_layout()
plt.show()

# Prediction examples
print("\n" + "="*50)
print("SALARY PREDICTIONS FOR DIFFERENT EXPERIENCE LEVELS")
print("="*50)

experience_levels = [1, 3, 5, 7, 10, 12, 15]
for exp in experience_levels:
    predicted_salary = model.predict([[exp]])[0]
    print(f"Experience: {exp} years → Predicted Salary: ${predicted_salary:,.2f}")

# Interactive prediction function
def predict_salary(years_exp):
    """Predict salary for given years of experience"""
    prediction = model.predict([[years_exp]])[0]
    return prediction

# Example usage
print("\n" + "="*50)
print("CUSTOM PREDICTION EXAMPLES")
print("="*50)

custom_experiences = [2.5, 6.8, 9.2, 11.5]
for exp in custom_experiences:
    salary_pred = predict_salary(exp)
    print(f"For {exp} years of experience → Predicted Salary: ${salary_pred:,.2f}")

# Feature importance (for linear regression, it's the coefficient)
print("\n" + "="*50)
print("FEATURE IMPORTANCE")
print("="*50)
print(f"Years of Experience coefficient: {model.coef_[0]:.2f}")
print("This means for every additional year of experience,")
print(f"the salary increases by approximately ${model.coef_[0]:,.2f}")

# Model summary
print("\n" + "="*50)
print("PROJECT SUMMARY")
print("="*50)
print(f"• Dataset size: {data.shape[0]} employees")
print(f"• Features used: Years of Experience")
print(f"• Target variable: Salary")
print(f"• Algorithm: Linear Regression")
print(f"• Model accuracy: {r2*100:.2f}%")
print(f"• Average prediction error: ${mae:.2f}")
print("\nThe model successfully predicts employee salaries")
print("based on their years of experience with good accuracy.")
